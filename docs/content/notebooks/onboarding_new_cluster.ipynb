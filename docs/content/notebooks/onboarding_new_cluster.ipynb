{
 "cells": [
  {
   "cell_type": "markdown",
   "metadata": {
    "tags": []
   },
   "source": [
    "# How to add a new cluster to Operate First\n",
    "\n",
    "In this guide we will explore how to onboard a cluster to the Operate First community. This document covers a journey from a standalone cluster to cluster which is centrally managed by the Operate First Ops team via GitOps.\n",
    "\n",
    "## Prerequisites\n",
    "\n",
    "- [x] The cluster which is being onboarded must already exist and run OpenShift.\n",
    "- [x] The cluster is imported to the Operate First's Advanced cluster management (ACM).\n",
    "\n",
    "If you need help to fulfill either of the prerequisites, please raise an issue in the support repository [here](https://github.com/operate-first/support/issues).\n",
    "\n",
    "## Outcomes\n",
    "\n",
    "- [ ] A pull request against the `operate-first/apps` repository.\n",
    "\n",
    "The PR enables the Operate First to:\n",
    "\n",
    "- [ ] Operate First's ArgoCD can manage the cluster.\n",
    "- [ ] Operate First's SSO is used as identity provider by OpenShift.\n",
    "- [ ] Operate First's integrated metrics and alerting federation is deployed to the cluster.\n",
    "\n",
    "## Introduction\n",
    "\n",
    "All manifests for all the workloads owned by Operate First Ops team are maintained in the `operate-first/apps` repository following the [Kustomize best practices](https://kubernetes.io/docs/tasks/manage-kubernetes-objects/kustomization/).\n",
    "\n",
    "The `cluster-scope` folder in this repo stores all privileged resources that are usually not allowed to be deployed by regular project admin and requires elevated access like cluster-admin role.\n",
    "\n",
    "If you want to know more about the overall design please consult Operate First's [Architectural Decision Records (ADR) archive](https://www.operate-first.cloud/blueprints/blueprint/#architectural-decisions).\n",
    "\n",
    "For each cluster we have a separate overlay in the `cluster-scope` folder. Clusters are grouped grouped by region. For more information on this topic, see [ADR-0009 - Declarative Definitions for Cluster Scoped Resources](https://www.operate-first.cloud/blueprints/blueprint/docs/adr/0009-cluster-resources.md).\n",
    "\n",
    "## Steps"
   ]
  },
  {
   "cell_type": "markdown",
   "metadata": {},
   "source": [
    "### 1. Define important variables\n",
    "\n",
    "In this guide we will use a couple of facts about the cluster. To make it easier to follow this guide, let's define these valued beforehand."
   ]
  },
  {
   "cell_type": "code",
   "execution_count": 1,
   "metadata": {},
   "outputs": [],
   "source": [
    "import uuid\n",
    "import json\n",
    "import os\n",
    "\n",
    "# User variables\n",
    "GITHUB_USERNAME = os.getenv(\"JUPYTERHUB_USER\")  # If this notebook is executed within Jupyter Hub on Operate First, you can use the `JUPYTERHUB_USER` variables instead\n",
    "\n",
    "# Cluster specific variables\n",
    "CLUSTER_NAME = \"my-cluster\"\n",
    "CLUSTER_DESCRIPTION = \"Description of cluster\"\n",
    "CLUSTER_REGION = \"emea\"\n",
    "DNS_LOCATION = \"aws\"\n",
    "CLUSTER_ADMINS_LST = [GITHUB_USERNAME,] # list of LOWERCASE github usernames of the cluster admins\n",
    "\n",
    "UUID=uuid.uuid4()\n",
    "CLUSTER_ADMINS=json.dumps([u.lower() for u in CLUSTER_ADMINS_LST]).replace(\"\\\"\", \"\\\\\\\"\")"
   ]
  },
  {
   "cell_type": "markdown",
   "metadata": {},
   "source": [
    "\n",
    "### 2. Fork and clone the apps repository\n",
    "\n",
    "Please fork/clone the [operate-first/apps](https://github.com/operate-first/apps) repository. We’ll be working within this repository only.\n",
    "\n",
    "1. Go to [operate-first/apps](https://github.com/operate-first/apps).\n",
    "2. Click on a fork button.\n",
    "3. When a fork is created click on the code button and copy an address of your forked repository.\n",
    "4. Run following command using copied address:"
   ]
  },
  {
   "cell_type": "code",
   "execution_count": 2,
   "metadata": {},
   "outputs": [
    {
     "name": "stdout",
     "output_type": "stream",
     "text": [
      "Cloning into 'apps'...\n",
      "remote: Enumerating objects: 12876, done.\u001b[K\n",
      "remote: Counting objects: 100% (1567/1567), done.\u001b[K\n",
      "remote: Compressing objects: 100% (852/852), done.\u001b[K\n",
      "remote: Total 12876 (delta 701), reused 1449 (delta 633), pack-reused 11309\u001b[K\n",
      "Receiving objects: 100% (12876/12876), 2.83 MiB | 4.71 MiB/s, done.\n",
      "Resolving deltas: 100% (6290/6290), done.\n",
      "/home/tcoufal/Programming/AI-CoE/operate-first/hitchhikers-guide/pages/apps\n"
     ]
    }
   ],
   "source": [
    "!git clone https://github.com/{GITHUB_USERNAME}/apps.git\n",
    "%cd apps"
   ]
  },
  {
   "cell_type": "markdown",
   "metadata": {},
   "source": [
    "### 3. Enable ArgoCD management in ACM\n",
    "\n",
    "The onboarded cluster is already being managed by ACM. Since Operate First manages its applications through ArgoCD and ACM can integrate with ArgoCD, we will use that. In the next cell we will let ACM setup a connection to the new cluster from our ArgoCD instance. Since ACM 2.3 this is achieved by declaring the cluster to be managed via a ArgoCD-enabled ClusterSet."
   ]
  },
  {
   "cell_type": "code",
   "execution_count": 3,
   "metadata": {},
   "outputs": [
    {
     "name": "stdout",
     "output_type": "stream",
     "text": [
      "Writing 'text_input' (str) to file 'acm/overlays/moc/infra/managedclusters/demo.yaml'.\n"
     ]
    }
   ],
   "source": [
    "text_input=\"\"\"\\\n",
    "apiVersion: cluster.open-cluster-management.io/v1\n",
    "kind: ManagedCluster\n",
    "metadata:\n",
    "  name: %s\n",
    "  labels:\n",
    "    cluster.open-cluster-management.io/clusterset: argocd-managed\n",
    "\"\"\" % (CLUSTER_NAME)\n",
    "\n",
    "%store text_input >acm/overlays/moc/infra/managedclusters/{CLUSTER_NAME}.yaml\n",
    "\n",
    "!cd acm/overlays/moc/infra/managedclusters && kustomize edit add resource {CLUSTER_NAME}.yaml"
   ]
  },
  {
   "cell_type": "markdown",
   "metadata": {},
   "source": [
    "### 4. Enable SSO login\n",
    "\n",
    "Next on the list of tasks that need to happen is to enable SSO for this cluster. Operate First SSO provides users a unified and seamless experience when accessing the cluster. To enable it, we need to setup 2 things:\n",
    "\n",
    "1. We need to inform the SSO server - a Keycloak instance, that this new cluster exists and that it is indeed a valid client.\n",
    "2. Configure cluster's oauth controller to query our SSO for user identity.\n",
    "\n",
    "#### 1. Configure SSO server\n",
    "\n",
    "The cell below will create a Keycloak client definition for the new cluster. SSO server is managed via `keycloak` folder in this repo, hence this cell creates a file at `keycloak/overlays/moc/infra/clients/$CLUSTER_NAME.yaml` and then encrypts it with sops. You can find the key to import from [here](https://github.com/operate-first/apps/tree/master/cluster-scope/overlays/prod/moc#secret-management):\n",
    "\n",
    "The `KeycloakClient` resource makes our SSO aware of the cluster's presence - it configures and enables the cluster to a client to the SSO."
   ]
  },
  {
   "cell_type": "code",
   "execution_count": 4,
   "metadata": {},
   "outputs": [
    {
     "name": "stdout",
     "output_type": "stream",
     "text": [
      "gpg: key 4DC4116D360E3276: \"Operate-First <aicoe-operate-first@redhat.com>\" not changed\n",
      "gpg: Total number processed: 1\n",
      "gpg:              unchanged: 1\n",
      "Writing 'text_input' (str) to file 'keycloak/overlays/moc/infra/clients/demo.yaml'.\n",
      "[PGP]\t \u001b[33mWARN\u001b[0m[0000] Deprecation Warning: GPG key fetching from a keyserver within sops will be removed in a future version of sops. See https://github.com/mozilla/sops/issues/727 for more information. \n"
     ]
    }
   ],
   "source": [
    "!gpg --keyserver keys.openpgp.org --recv 0508677DD04952D06A943D5B4DC4116D360E3276\n",
    "\n",
    "text_input=\"\"\"\\\n",
    "apiVersion: keycloak.org/v1alpha1\n",
    "kind: KeycloakClient\n",
    "metadata:\n",
    "    name: %s\n",
    "    labels:\n",
    "        client: %s\n",
    "spec:\n",
    "    client:\n",
    "        clientId: %s\n",
    "        defaultClientScopes:\n",
    "            - profile\n",
    "        description: %s\n",
    "        name: %s cluster\n",
    "        protocol: openid-connect\n",
    "        secret: %s\n",
    "        standardFlowEnabled: true\n",
    "        redirectUris:\n",
    "            - https://oauth-openshift.apps.%s.%s.operate-first.cloud/oauth2callback/operate-first\n",
    "    realmSelector:\n",
    "        matchLabels:\n",
    "            realm: operate-first\n",
    "\n",
    "\"\"\" %(CLUSTER_NAME, CLUSTER_NAME, CLUSTER_NAME, CLUSTER_DESCRIPTION, CLUSTER_NAME, UUID, CLUSTER_NAME, DNS_LOCATION)\n",
    "\n",
    "%store text_input >keycloak/overlays/moc/infra/clients/{CLUSTER_NAME}.yaml\n",
    "\n",
    "!sops --encrypt --encrypted-regex=\"^secret$\" --pgp=\"0508677DD04952D06A943D5B4DC4116D360E3276\" keycloak/overlays/moc/infra/clients/{CLUSTER_NAME}.yaml >keycloak/overlays/moc/infra/clients/{CLUSTER_NAME}.enc.yaml\n",
    "\n",
    "!rm keycloak/overlays/moc/infra/clients/{CLUSTER_NAME}.yaml\n",
    "\n",
    "!yq e -i \".files += [\\\"clients/{CLUSTER_NAME}.enc.yaml\\\"]\" keycloak/overlays/moc/infra/secret-generator.yaml"
   ]
  },
  {
   "cell_type": "markdown",
   "metadata": {},
   "source": [
    "#### 2. Configure SSO as identity provider for the cluster\n",
    "\n",
    "Now we need to configure the cluster's OAuth controller so it uses Opereate First SSO as an identity provider.\n",
    "\n",
    "Below we will create a `operate-first-sso-secret` secret resource and encrypt it with sops. This secret contains cluster's SSO credentials which matches the SSO server configuration above.\n",
    "\n",
    "Then we reference this secret in the OAuth configuration for OpenShift. The `OAuth` resource defines identity providers available to users when authenticating to the cluster."
   ]
  },
  {
   "cell_type": "code",
   "execution_count": 5,
   "metadata": {},
   "outputs": [
    {
     "name": "stdout",
     "output_type": "stream",
     "text": [
      "Writing 'text_input' (str) to file 'cluster-scope/overlays/prod/emea/demo/oauths/operate-first-sso-secret.yaml'.\n",
      "[PGP]\t \u001b[33mWARN\u001b[0m[0000] Deprecation Warning: GPG key fetching from a keyserver within sops will be removed in a future version of sops. See https://github.com/mozilla/sops/issues/727 for more information. \n"
     ]
    }
   ],
   "source": [
    "!mkdir -p cluster-scope/overlays/prod/{CLUSTER_REGION}/{CLUSTER_NAME}/oauths/\n",
    "\n",
    "text_input=\"\"\"\\\n",
    "apiVersion: v1\n",
    "kind: Secret\n",
    "metadata:\n",
    "    name: operate-first-sso-secret\n",
    "    namespace: openshift-config\n",
    "    annotations:\n",
    "        argocd.argoproj.io/compare-options: IgnoreExtraneous\n",
    "        argocd.argoproj.io/sync-options: Prune=false\n",
    "type: Opaque\n",
    "stringData:\n",
    "    clientSecret: %s\n",
    "\"\"\" % (UUID)\n",
    "\n",
    "%store text_input >cluster-scope/overlays/prod/{CLUSTER_REGION}/{CLUSTER_NAME}/oauths/operate-first-sso-secret.yaml\n",
    "\n",
    "!sops --encrypt --encrypted-regex=\"^(data|stringData)$\" --pgp=\"0508677DD04952D06A943D5B4DC4116D360E3276\" cluster-scope/overlays/prod/{CLUSTER_REGION}/{CLUSTER_NAME}/oauths/operate-first-sso-secret.yaml >cluster-scope/overlays/prod/{CLUSTER_REGION}/{CLUSTER_NAME}/oauths/operate-first-sso-secret.enc.yaml\n",
    "\n",
    "!rm cluster-scope/overlays/prod/{CLUSTER_REGION}/{CLUSTER_NAME}/oauths/operate-first-sso-secret.yaml"
   ]
  },
  {
   "cell_type": "code",
   "execution_count": 6,
   "metadata": {},
   "outputs": [
    {
     "name": "stdout",
     "output_type": "stream",
     "text": [
      "Writing 'text_input' (str) to file 'cluster-scope/overlays/prod/emea/demo/secret-generator.yaml'.\n"
     ]
    }
   ],
   "source": [
    "text_input=\"\"\"\\\n",
    "---\n",
    "apiVersion: viaduct.ai/v1\n",
    "kind: ksops\n",
    "metadata:\n",
    "  name: secret-generator\n",
    "files:\n",
    "  - oauths/operate-first-sso-secret.enc.yaml\n",
    "\"\"\"\n",
    "\n",
    "%store text_input >cluster-scope/overlays/prod/{CLUSTER_REGION}/{CLUSTER_NAME}/secret-generator.yaml"
   ]
  },
  {
   "cell_type": "code",
   "execution_count": 7,
   "metadata": {},
   "outputs": [
    {
     "name": "stdout",
     "output_type": "stream",
     "text": [
      "Writing 'text_input' (str) to file 'cluster-scope/overlays/prod/emea/demo/oauths/cluster_patch.yaml'.\n"
     ]
    }
   ],
   "source": [
    "text_input=\"\"\"\\\n",
    "---\n",
    "apiVersion: config.openshift.io/v1\n",
    "kind: OAuth\n",
    "metadata:\n",
    "  name: cluster\n",
    "spec:\n",
    "  identityProviders:\n",
    "    - mappingMethod: claim\n",
    "      name: operate-first\n",
    "      openID:\n",
    "        claims:\n",
    "          email:\n",
    "            - email\n",
    "          name:\n",
    "            - name\n",
    "          preferredUsername:\n",
    "            - preferred_username\n",
    "        clientID: %s\n",
    "        clientSecret:\n",
    "          name: operate-first-sso-secret\n",
    "        extraScopes: []\n",
    "        issuer: https://keycloak-keycloak.apps.moc-infra.massopen.cloud/auth/realms/operate-first\n",
    "      type: OpenID\n",
    "\"\"\" % (CLUSTER_NAME)\n",
    "\n",
    "%store text_input >cluster-scope/overlays/prod/{CLUSTER_REGION}/{CLUSTER_NAME}/oauths/cluster_patch.yaml"
   ]
  },
  {
   "cell_type": "markdown",
   "metadata": {},
   "source": [
    "### 5. Create a cluster admins group\n",
    "\n",
    "Now we can assume we have Operate First SSO enabled on the cluster, hence we can start using GitHub accounts as user names on the cluster. Let's use that to declare cluster admins for this particular cluster. While cluster admins have full access to the cluster, all changes should always be done via GitOps. In general, we think of cluster admins as an emergency break in case we need to investigate or act quickly.\n",
    "\n",
    "Please be advised that Keycloak converts all usernames to lowercase and OpenShift RBAC is case sensitive, hence we convert all GitHub usernames to lowercase and reference them in OpenShift as such.\n",
    "\n",
    "By executing the following cell you will create a file `cluster-scope/overlays/prod/$CLUSTER_REGION/$CLUSTER_NAME/groups/cluster-admins.yaml`."
   ]
  },
  {
   "cell_type": "code",
   "execution_count": 8,
   "metadata": {},
   "outputs": [
    {
     "name": "stdout",
     "output_type": "stream",
     "text": [
      "Writing 'input_text' (str) to file 'cluster-scope/overlays/prod/emea/demo/groups/cluster-admins.yaml'.\n"
     ]
    }
   ],
   "source": [
    "!mkdir -p cluster-scope/overlays/prod/{CLUSTER_REGION}/{CLUSTER_NAME}/groups\n",
    "input_text=\"\"\"\\\n",
    "apiVersion: user.openshift.io/v1\n",
    "kind: Group\n",
    "metadata:\n",
    "    name: cluster-admins\n",
    "\"\"\"\n",
    "%store input_text  >cluster-scope/overlays/prod/{CLUSTER_REGION}/{CLUSTER_NAME}/groups/cluster-admins.yaml\n",
    "!yq e -i \".users = {CLUSTER_ADMINS}\" cluster-scope/overlays/prod/{CLUSTER_REGION}/{CLUSTER_NAME}/groups/cluster-admins.yaml\n"
   ]
  },
  {
   "cell_type": "markdown",
   "metadata": {},
   "source": [
    "(content:references:stich:kustomize)=\n",
    "### 6. Stitch things together via Kustomize\n",
    "\n",
    "Now we have many different isolated bits and pieces of configuration defined and modified for our cluster. In order to apply those changes we need to render all those manifests together and instruct ArgoCD to deploy it. First things first, let's combine those manifests now.\n",
    "\n",
    "We use Kustomize to compose manifests. This tool requires a `kustomization.yaml` file as the base manifest. This file instructs Kustomize which resource files to pull and how to overlay and render them together. In this particular case it serves us as the single source of truth for what gets configured on each cluster when it comes to the privileged resources.\n",
    "\n",
    "The following cell will create a `kustomization.yaml` file in `cluster-scope/overlays/prod/$CLUSTER_REGION/$CLUSTER_NAME` and bootstraps it with:\n",
    "1. All the common configuration specific to given region - this is specified in `../common` folder.\n",
    "2. Adds OAuth configuration to enable SSO.\n",
    "3. Patches the `cluster-admins` user group replacing the users object with those users we've specified via the variable above."
   ]
  },
  {
   "cell_type": "code",
   "execution_count": 9,
   "metadata": {},
   "outputs": [
    {
     "name": "stdout",
     "output_type": "stream",
     "text": [
      "Writing 'text_input' (str) to file 'cluster-scope/overlays/prod/emea/demo/kustomization.yaml'.\n"
     ]
    }
   ],
   "source": [
    "text_input=\"\"\"\\\n",
    "---\n",
    "apiVersion: kustomize.config.k8s.io/v1beta1\n",
    "kind: Kustomization\n",
    "\n",
    "resources:\n",
    "  - ../common\n",
    "  - ../../../../base/config.openshift.io/oauths/cluster\n",
    "  - ../../../../base/user.openshift.io/groups/cluster-admins\n",
    "\n",
    "patchesStrategicMerge:\n",
    "  - groups/cluster-admins.yaml\n",
    "  - oauths/cluster_patch.yaml\n",
    "\n",
    "generators:\n",
    "  - secret-generator.yaml\n",
    "\"\"\"\n",
    "\n",
    "%store text_input  >cluster-scope/overlays/prod/{CLUSTER_REGION}/{CLUSTER_NAME}/kustomization.yaml"
   ]
  },
  {
   "cell_type": "markdown",
   "metadata": {},
   "source": [
    "(content:references:enable:monitoring)=\n",
    "### 7. Enable monitoring and alerting\n",
    "\n",
    "We follow the recommended practices by OpenShift upstream, that means we support User Workload Monitoring on our clusters. And since Operate First is a community cloud, we are aiming to be transparent about alerts fired by the cluster itself. In this step we will enable User Workload Monitoring, then we'll bring in an alert receiver for GitHub that funnels alerts from the cluster and files them as GitHub Issues.\n",
    "\n",
    "#### 1. Enable User Workload Monitoring\n",
    "\n",
    "User Workload Monitoring can be enabled via a simple configuration change in the `cluster-monitoring-config` ConfigMap in the `openshift-monitoring` namespace. Since we apply this change to most of the clusters, we host it in the `cluster-scope/base`. To apply this change to the new cluster, all we have to do is to pull the resource in to the overlay we created in previous step."
   ]
  },
  {
   "cell_type": "code",
   "execution_count": 10,
   "metadata": {},
   "outputs": [],
   "source": [
    "!cd cluster-scope/overlays/prod/{CLUSTER_REGION}/{CLUSTER_NAME} && kustomize edit add resource ../../../../base/core/configmaps/cluster-monitoring-config"
   ]
  },
  {
   "cell_type": "markdown",
   "metadata": {},
   "source": [
    "#### 2. Deploy alert receiver for Github\n",
    "\n",
    "Alert receiver configuration is also well known and already defined. However since this is a standalone application, we need a separate overlay for it in folder which belongs to this application - `alertreceiver` folder. In the next cell we will create a new overlay in there (patching the static labels assigned to each alert originating from this cluster). Then we'll update the `cluster-scope` overlay we've created in the step [6. Stitch things together via Kustomize](content:references:stich:kustomize) of this guide by requesting a namespace for the alert receiver to be created."
   ]
  },
  {
   "cell_type": "code",
   "execution_count": 11,
   "metadata": {},
   "outputs": [
    {
     "name": "stdout",
     "output_type": "stream",
     "text": [
      "Writing 'text_input' (str) to file 'alertreceiver/overlays/emea/demo/kustomization.yaml'.\n"
     ]
    }
   ],
   "source": [
    "!mkdir -p alertreceiver/overlays/{CLUSTER_REGION}/{CLUSTER_NAME}\n",
    "\n",
    "text_input=\"\"\"\\\n",
    "---\n",
    "apiVersion: kustomize.config.k8s.io/v1beta1\n",
    "kind: Kustomization\n",
    "\n",
    "resources:\n",
    "  - ../../common\n",
    "\n",
    "patchesJson6902:\n",
    "  - patch: |\n",
    "      - op: replace\n",
    "        path: /spec/template/spec/containers/0/args/0\n",
    "        value: --label=environment/%s/%s\n",
    "    target:\n",
    "      group: apps\n",
    "      kind: Deployment\n",
    "      name: github-receiver\n",
    "      version: v1\n",
    "\"\"\" % (CLUSTER_REGION, CLUSTER_NAME)\n",
    "\n",
    "%store text_input  >alertreceiver/overlays/{CLUSTER_REGION}/{CLUSTER_NAME}/kustomization.yaml\n",
    "\n",
    "!cd cluster-scope/overlays/prod/{CLUSTER_REGION}/{CLUSTER_NAME} && kustomize edit add resource ../../../../base/core/namespaces/opf-alertreceiver"
   ]
  },
  {
   "cell_type": "markdown",
   "metadata": {},
   "source": [
    "### 8. Create ArgoCD apps for this cluster\n",
    "\n",
    "At this point we have created, modified and updated all necessary manifests that are needed for a cluster to be properly managed. The remaining step now is to make ArgoCD aware that those manifests exists and how it can deploy and monitor them for us.\n",
    "\n",
    "In this step we will create:\n",
    "\n",
    "1. An \"App-of-apps\" application which deploys other (future) applications to this cluster.\n",
    "2. An application which deploys the cluster management related manifests (from the `cluster-scope` folder).\n",
    "3. An application which deploys the alertreceiver (from the `alertreceiver` folder).\n",
    "4. We will enable this cluster to be targeted by ArgoCD project for Operate First management applications.\n",
    "\n",
    "\n",
    "#### 1. Create the App-of-apps\n",
    "\n",
    "First we will create the app-of-apps application for this cluster. It's an application which points to other application manifests. This pattern allows us to automate deployment of future ArgoCD applications that we will want to deploy to this cluster.\n",
    "\n",
    "Since we assume ArgoCD to be yet another regular application we host manifests which helps to configure it in the `argocd` folder. We host a single instance of it, so we'll be working within the `argocd/overlays/moc-infra/`\n",
    "\n",
    "In this step we will create an `Application` resource which points to `argocd/overlays/moc-infra/applications/envs/$CLUSTER_REGION/$CLUSTER_NAME`. That is exactly where we will keep all other `Application` resources for this cluster. Once the app-of-apps resource manifest is created, we'll add it to the Kustomization at `argocd/overlays/moc-infra/applications/app-of-apps/kustomization.yaml`."
   ]
  },
  {
   "cell_type": "code",
   "execution_count": 12,
   "metadata": {},
   "outputs": [
    {
     "name": "stdout",
     "output_type": "stream",
     "text": [
      "Writing 'text_input' (str) to file 'argocd/overlays/moc-infra/applications/app-of-apps/app-of-apps-demo.yaml'.\n"
     ]
    }
   ],
   "source": [
    "text_input=\"\"\"\\\n",
    "apiVersion: argoproj.io/v1alpha1\n",
    "kind: Application\n",
    "metadata:\n",
    "  name: opf-app-of-apps-%s\n",
    "spec:\n",
    "  destination:\n",
    "    namespace: argocd\n",
    "    name: moc-infra\n",
    "  project: operate-first\n",
    "  source:\n",
    "    path: argocd/overlays/moc-infra/applications/envs/%s/%s\n",
    "    repoURL: https://github.com/operate-first/apps.git\n",
    "    targetRevision: HEAD\n",
    "  syncPolicy:\n",
    "    automated:\n",
    "      prune: true\n",
    "      selfHeal: true\n",
    "    syncOptions:\n",
    "    - Validate=false\n",
    "    - ApplyOutOfSyncOnly=true\n",
    "\"\"\" % (CLUSTER_NAME, CLUSTER_REGION, CLUSTER_NAME)\n",
    "\n",
    "%store text_input >argocd/overlays/moc-infra/applications/app-of-apps/app-of-apps-{CLUSTER_NAME}.yaml\n",
    "\n",
    "!cd argocd/overlays/moc-infra/applications/app-of-apps && kustomize edit add resource app-of-apps-{CLUSTER_NAME}.yaml"
   ]
  },
  {
   "cell_type": "markdown",
   "metadata": {},
   "source": [
    "As you can see we've pointed ArgoCD to a folder within `argocd/overlays/moc-infra/applications/envs` which does not exist yet. Now is the time to create it."
   ]
  },
  {
   "cell_type": "code",
   "execution_count": 13,
   "metadata": {},
   "outputs": [],
   "source": [
    "!mkdir  -p argocd/overlays/moc-infra/applications/envs/{CLUSTER_REGION}/{CLUSTER_NAME}\n",
    "\n",
    "!cd argocd/overlays/moc-infra/applications/envs/{CLUSTER_REGION}/{CLUSTER_NAME} && kustomize init --namespace argocd --namesuffix -{CLUSTER_NAME}"
   ]
  },
  {
   "cell_type": "markdown",
   "metadata": {},
   "source": [
    "#### 2. Application for privileged resource\n",
    "\n",
    "Now let's add our first application to this folder. This application should source the overlay in the `cluster-scope` folder, which we've created at [6. Stitch things together via Kustomize](content:references:stich:kustomize) step."
   ]
  },
  {
   "cell_type": "code",
   "execution_count": 17,
   "metadata": {},
   "outputs": [
    {
     "name": "stdout",
     "output_type": "stream",
     "text": [
      "Writing 'text_input' (str) to file 'argocd/overlays/moc-infra/applications/envs/emea/demo/cluster-management/cluster-resources.yaml'.\n",
      "Error: kustomization file already exists\n",
      "Usage:\n",
      "  kustomize create [flags]\n",
      "\n",
      "Aliases:\n",
      "  create, init\n",
      "\n",
      "Examples:\n",
      "\n",
      "\t# Create a new overlay from the base '../base\".\n",
      "\tkustomize create --resources ../base\n",
      "\n",
      "\t# Create a new kustomization detecting resources in the current directory.\n",
      "\tkustomize create --autodetect\n",
      "\n",
      "\t# Create a new kustomization with multiple resources and fields set.\n",
      "\tkustomize create --resources deployment.yaml,service.yaml,../base --namespace staging --nameprefix acme-\n",
      "\n",
      "\n",
      "Flags:\n",
      "      --annotations string   Add one or more common annotations.\n",
      "      --autodetect           Search for kubernetes resources in the current directory to be added to the kustomization file.\n",
      "  -h, --help                 help for create\n",
      "      --labels string        Add one or more common labels.\n",
      "      --nameprefix string    Sets the value of the namePrefix field in the kustomization file.\n",
      "      --namespace string     Set the value of the namespace field in the customization file.\n",
      "      --namesuffix string    Sets the value of the nameSuffix field in the kustomization file.\n",
      "      --recursive            Enable recursive directory searching for resource auto-detection.\n",
      "      --resources string     Name of a file containing a file to add to the kustomization file.\n",
      "\n",
      "Global Flags:\n",
      "      --stack-trace   print a stack-trace on error\n",
      "\n",
      "2021/09/30 18:08:50 resource cluster-management already in kustomization file\n"
     ]
    }
   ],
   "source": [
    "!mkdir -p argocd/overlays/moc-infra/applications/envs/{CLUSTER_REGION}/{CLUSTER_NAME}/cluster-management\n",
    "\n",
    "text_input=\"\"\"\\\n",
    "apiVersion: argoproj.io/v1alpha1\n",
    "kind: Application\n",
    "metadata:\n",
    "  name: cluster-resources\n",
    "spec:\n",
    "  destination:\n",
    "    name: %s\n",
    "    namespace: open-cluster-management-agent\n",
    "  ignoreDifferences:\n",
    "    - group: imageregistry.operator.openshift.io\n",
    "      jsonPointers:\n",
    "        - /spec/defaultRoute\n",
    "        - /spec/httpSecret\n",
    "        - /spec/proxy\n",
    "        - /spec/requests\n",
    "        - /spec/rolloutStrategy\n",
    "      kind: Config\n",
    "      name: cluster\n",
    "  project: cluster-management\n",
    "  source:\n",
    "    path: cluster-scope/overlays/prod/%s/%s\n",
    "    repoURL: https://github.com/operate-first/apps.git\n",
    "    targetRevision: HEAD\n",
    "  syncPolicy:\n",
    "    automated:\n",
    "      prune: true\n",
    "      selfHeal: true\n",
    "    syncOptions:\n",
    "    - Validate=false\n",
    "    - ApplyOutOfSyncOnly=true\n",
    "\"\"\" % (CLUSTER_NAME, CLUSTER_REGION, CLUSTER_NAME)\n",
    "\n",
    "%store text_input >argocd/overlays/moc-infra/applications/envs/{CLUSTER_REGION}/{CLUSTER_NAME}/cluster-management/cluster-resources.yaml\n",
    "\n",
    "!cd argocd/overlays/moc-infra/applications/envs/{CLUSTER_REGION}/{CLUSTER_NAME}/cluster-management && kustomize init --resources cluster-resources.yaml\n",
    "\n",
    "!cd argocd/overlays/moc-infra/applications/envs/{CLUSTER_REGION}/{CLUSTER_NAME} && kustomize edit add resource cluster-management"
   ]
  },
  {
   "cell_type": "markdown",
   "metadata": {},
   "source": [
    "#### 3. Application for alert receiver\n",
    "\n",
    "Next up is the alert receiver. We need to create an Application resource for it as well. It will point to the `alertreceiver` overlay we've created in the step [7. Enable monitoring and alerting](content:references:enable:monitoring)."
   ]
  },
  {
   "cell_type": "code",
   "execution_count": 15,
   "metadata": {},
   "outputs": [
    {
     "name": "stdout",
     "output_type": "stream",
     "text": [
      "Writing 'text_input' (str) to file 'argocd/overlays/moc-infra/applications/envs/emea/demo/cluster-management/alertreceiver.yaml'.\n"
     ]
    }
   ],
   "source": [
    "text_input = \"\"\"\\\n",
    "apiVersion: argoproj.io/v1alpha1\n",
    "kind: Application\n",
    "metadata:\n",
    "  name: alertreceiver\n",
    "spec:\n",
    "  destination:\n",
    "    name: %s\n",
    "    namespace: opf-alertreceiver\n",
    "  project: cluster-management\n",
    "  source:\n",
    "    path: alertreceiver/overlays/%s/%s\n",
    "    repoURL: https://github.com/operate-first/apps.git\n",
    "    targetRevision: HEAD\n",
    "  syncPolicy:\n",
    "    automated:\n",
    "      prune: true\n",
    "      selfHeal: true\n",
    "    syncOptions:\n",
    "      - Validate=false\n",
    "\"\"\" % (CLUSTER_NAME, CLUSTER_REGION, CLUSTER_NAME)\n",
    "\n",
    "%store text_input >argocd/overlays/moc-infra/applications/envs/{CLUSTER_REGION}/{CLUSTER_NAME}/cluster-management/alertreceiver.yaml\n",
    "\n",
    "!cd argocd/overlays/moc-infra/applications/envs/{CLUSTER_REGION}/{CLUSTER_NAME}/cluster-management && kustomize edit add resource alertreceiver.yaml"
   ]
  },
  {
   "cell_type": "markdown",
   "metadata": {},
   "source": [
    "\n",
    "## Finalize\n",
    "\n",
    "Please stage your changes and send them as a PR against the [operate-first/apps](https://github.com/operate-first/apps) repository.\n",
    "\n",
    ":::{note}\n",
    "Make sure that following files/ have been modified/added:\n",
    "- [ ] Modified `acm/overlays/moc/infra/managedclusters/kustomization.yaml`\n",
    "- [ ] Added `acm/overlays/moc/infra/managedclusters/$CLUSTER_NAME.yaml`\n",
    "- [ ] Added `alertreceiver/overlays/moc/$CLUSTER_NAME/kustomization.yaml`\n",
    "- [ ] Added `argocd/overlays/moc-infra/applications/app-of-apps/app-of-apps-$CLUSTER_NAME.yaml`\n",
    "- [ ] Modified `argocd/overlays/moc-infra/applications/app-of-apps/kustomization.yaml`\n",
    "- [ ] Added `argocd/overlays/moc-infra/applications/envs/$CLUSTER_REGION/$CLUSTER_NAME/cluster-management/alertreceiver.yaml`\n",
    "- [ ] Added `argocd/overlays/moc-infra/applications/envs/$CLUSTER_REGION/$CLUSTER_NAME/cluster-management/cluster-resources.yaml`\n",
    "- [ ] Added `argocd/overlays/moc-infra/applications/envs/$CLUSTER_REGION/$CLUSTER_NAME/cluster-management/kustomization.yaml`\n",
    "- [ ] Added `argocd/overlays/moc-infra/applications/envs/$CLUSTER_REGION/$CLUSTER_NAME/kustomization.yaml`\n",
    "- [ ] Added `cluster-scope/overlays/prod/$CLUSTER_REGION/$CLUSTER_NAME/groups/cluster-admins.yaml`\n",
    "- [ ] Added `cluster-scope/overlays/prod/$CLUSTER_REGION/$CLUSTER_NAME/kustomization.yaml`\n",
    "- [ ] Added `cluster-scope/overlays/prod/$CLUSTER_REGION/$CLUSTER_NAME/oauths/cluster_patch.yaml`\n",
    "- [ ] Added `cluster-scope/overlays/prod/$CLUSTER_REGION/$CLUSTER_NAME/oauths/operate-first-sso-secret.enc.yaml`\n",
    "- [ ] Added `cluster-scope/overlays/prod/$CLUSTER_REGION/$CLUSTER_NAME/secret-generator.yaml`\n",
    "- [ ] Added `keycloak/overlays/moc/infra/clients/$CLUSTER_NAME.enc.yaml`\n",
    "- [ ] Modified `keycloak/overlays/moc/infra/secret-generator.yaml`\n",
    ":::"
   ]
  },
  {
   "cell_type": "code",
   "execution_count": 18,
   "metadata": {},
   "outputs": [
    {
     "name": "stdout",
     "output_type": "stream",
     "text": [
      "On branch master\n",
      "Your branch is behind 'origin/master' by 1 commit, and can be fast-forwarded.\n",
      "  (use \"git pull\" to update your local branch)\n",
      "\n",
      "Changes not staged for commit:\n",
      "  (use \"git add <file>...\" to update what will be committed)\n",
      "  (use \"git restore <file>...\" to discard changes in working directory)\n",
      "\t\u001b[31mmodified:   acm/overlays/moc/infra/managedclusters/kustomization.yaml\u001b[m\n",
      "\t\u001b[31mmodified:   argocd/overlays/moc-infra/applications/app-of-apps/kustomization.yaml\u001b[m\n",
      "\t\u001b[31mmodified:   keycloak/overlays/moc/infra/secret-generator.yaml\u001b[m\n",
      "\n",
      "Untracked files:\n",
      "  (use \"git add <file>...\" to include in what will be committed)\n",
      "\t\u001b[31macm/overlays/moc/infra/managedclusters/demo.yaml\u001b[m\n",
      "\t\u001b[31malertreceiver/overlays/emea/demo/\u001b[m\n",
      "\t\u001b[31margocd/overlays/moc-infra/applications/app-of-apps/app-of-apps-demo.yaml\u001b[m\n",
      "\t\u001b[31margocd/overlays/moc-infra/applications/envs/emea/demo/\u001b[m\n",
      "\t\u001b[31mcluster-scope/overlays/prod/emea/demo/\u001b[m\n",
      "\t\u001b[31mkeycloak/overlays/moc/infra/clients/demo.enc.yaml\u001b[m\n",
      "\n",
      "no changes added to commit (use \"git add\" and/or \"git commit -a\")\n",
      "[master 58d7129] feat(onboarding): Add cluster demo\n",
      " 16 files changed, 252 insertions(+)\n",
      " create mode 100644 acm/overlays/moc/infra/managedclusters/demo.yaml\n",
      " create mode 100644 alertreceiver/overlays/emea/demo/kustomization.yaml\n",
      " create mode 100644 argocd/overlays/moc-infra/applications/app-of-apps/app-of-apps-demo.yaml\n",
      " create mode 100644 argocd/overlays/moc-infra/applications/envs/emea/demo/cluster-management/alertreceiver.yaml\n",
      " create mode 100644 argocd/overlays/moc-infra/applications/envs/emea/demo/cluster-management/cluster-resources.yaml\n",
      " create mode 100644 argocd/overlays/moc-infra/applications/envs/emea/demo/cluster-management/kustomization.yaml\n",
      " create mode 100644 argocd/overlays/moc-infra/applications/envs/emea/demo/kustomization.yaml\n",
      " create mode 100644 cluster-scope/overlays/prod/emea/demo/groups/cluster-admins.yaml\n",
      " create mode 100644 cluster-scope/overlays/prod/emea/demo/kustomization.yaml\n",
      " create mode 100644 cluster-scope/overlays/prod/emea/demo/oauths/cluster_patch.yaml\n",
      " create mode 100644 cluster-scope/overlays/prod/emea/demo/oauths/operate-first-sso-secret.enc.yaml\n",
      " create mode 100644 cluster-scope/overlays/prod/emea/demo/secret-generator.yaml\n",
      " create mode 100644 keycloak/overlays/moc/infra/clients/demo.enc.yaml\n",
      "qt.qpa.xcb: QXcbConnection: XCB error: 3 (BadWindow), sequence: 813, resource id: 15545424, major code: 40 (TranslateCoords), minor code: 0\n",
      "Enumerating objects: 73, done.\n",
      "Counting objects: 100% (73/73), done.\n",
      "Delta compression using up to 8 threads\n",
      "Compressing objects: 100% (42/42), done.\n",
      "Writing objects: 100% (48/48), 8.44 KiB | 2.11 MiB/s, done.\n",
      "Total 48 (delta 14), reused 1 (delta 0), pack-reused 0\n",
      "remote: Resolving deltas: 100% (14/14), completed with 11 local objects.\u001b[K\n",
      "To https://github.com/tumido/apps.git\n",
      "   de2f47a..58d7129  master -> master\n"
     ]
    }
   ],
   "source": [
    "!git status\n",
    "!git add .\n",
    "!git commit -m \"feat(onboarding): Add cluster {CLUSTER_NAME}\"\n",
    "!git push"
   ]
  },
  {
   "cell_type": "code",
   "execution_count": null,
   "metadata": {},
   "outputs": [],
   "source": []
  }
 ],
 "metadata": {
  "interpreter": {
   "hash": "e7370f93d1d0cde622a1f8e1c04877d8463912d04d973331ad4851f04de6915a"
  },
  "kernelspec": {
   "display_name": "Python 3 (ipykernel)",
   "language": "python",
   "name": "python3"
  },
  "language_info": {
   "codemirror_mode": {
    "name": "ipython",
    "version": 3
   },
   "file_extension": ".py",
   "mimetype": "text/x-python",
   "name": "python",
   "nbconvert_exporter": "python",
   "pygments_lexer": "ipython3",
   "version": "3.8.12"
  }
 },
 "nbformat": 4,
 "nbformat_minor": 4
}
