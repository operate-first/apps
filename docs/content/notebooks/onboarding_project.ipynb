{
 "cells": [
  {
   "cell_type": "markdown",
   "metadata": {
    "tags": []
   },
   "source": [
    "# How to onboard a new project to a cluster on Operate First Cloud\n",
    "This guide explains how you can onboard a new project to one of the Operate First clusters. This guide itself is a JupyterHub notebook so you're supposed to follow all the intstrustions here by running this with JupyterHub"
   ]
  },
  {
   "cell_type": "markdown",
   "metadata": {
    "tags": []
   },
   "source": [
    "## Prerequisites\n",
    "- Have a team name ready\n",
    "- Have an OpenShift namespace name ready \n",
    "- Have a list of GitHub user accounts that require access\n",
    "- If running this notebook locally, you need to have the following tools installed: \n",
    "\n",
    "    - [opfcli](https://github.com/operate-first/opfcli/releases)\n",
    "    - [kustomize](https://kubectl.docs.kubernetes.io/installation/kustomize/binaries/)\n",
    "    - [yq](https://github.com/mikefarah/yq#install)\n",
    "    - [python](https://www.python.org/)\n",
    "    - [python json](https://docs.python.org/3/library/json.html)\n",
    "- Know which cluster you are looking to provision an OpenShift namespace to\n",
    "  \n",
    "  Run the following command to see the list of available Clusters:"
   ]
  },
  {
   "cell_type": "code",
   "execution_count": 50,
   "metadata": {
    "tags": []
   },
   "outputs": [
    {
     "name": "stdout",
     "output_type": "stream",
     "text": [
      "balrog\n",
      "curator\n",
      "demo\n",
      "ocp-prod\n",
      "ocp-staging\n",
      "osc-cl1\n",
      "rick\n",
      "smaug\n"
     ]
    }
   ],
   "source": [
    "!cd /tmp && kustomize build https://github.com/operate-first/apps/acm/overlays/moc/infra/managedclusters?ref=master | yq e -N '.metadata.name' -"
   ]
  },
  {
   "cell_type": "markdown",
   "metadata": {},
   "source": [
    "## Outcomes\n",
    "\n",
    "- [ ] A pull request against the `operate-first/apps` repository.\n",
    "- [ ] Create a namespace on the desired Operate First cluster.\n",
    "- [ ] Create an OCP group with your team's GH users as members. \n",
    "- [ ] Provide project admin level access to the newly created namespace for this group."
   ]
  },
  {
   "cell_type": "markdown",
   "metadata": {
    "tags": []
   },
   "source": [
    "## Steps"
   ]
  },
  {
   "cell_type": "markdown",
   "metadata": {
    "tags": []
   },
   "source": [
    "### 1. Enter your info\n",
    "\n",
    "In this guide we will use a couple of facts about your team and project. To make it easier to follow this guide, let's define these values beforehand."
   ]
  },
  {
   "cell_type": "code",
   "execution_count": 54,
   "metadata": {
    "tags": []
   },
   "outputs": [],
   "source": [
    "import os\n",
    "import json\n",
    "import tempfile\n",
    "import yaml\n",
    "\n",
    "# User variables\n",
    "GITHUB_USERNAME = \"HumairAK\"  # If this notebook is executed within Jupyter Hub on Operate First, you can use the `JUPYTERHUB_USER` variables instead\n",
    "\n",
    "# Namespace specific variables\n",
    "NAMESPACE_NAME=\"demo-projecx\"\n",
    "NAMESPACE_DISPLAY_NAME=\"Demo Project Namespace\"\n",
    "TEAM_NAME=\"demo-teamx\"\n",
    "\n",
    "# Pick a Quota from: x-small, small, medium, large. \n",
    "# See details here: https://www.operate-first.cloud/apps/content/cluster-scope/quotas.html\n",
    "QUOTA=\"small\"\n",
    "# If instead you want to use a custom quota, ignore QUOTA and set the following to True\n",
    "CUSTOM_QUOTA=False\n",
    "\n",
    "# Target cluster variables\n",
    "TARGET_CLUSTER_NAME = \"smaug\"\n",
    "TARGET_CLUSTER_REGION = \"moc\"\n",
    "\n",
    "NAMESPACE_ADMINS_LST = [GITHUB_USERNAME,] # list of LOWERCASE github usernames of the namespace admins\n",
    "\n",
    "TARGET_CLUSTER=TARGET_CLUSTER_REGION+\"/\"+TARGET_CLUSTER_NAME\n",
    "\n",
    "NAMESPACE_ADMINS=json.dumps([u.lower() for u in NAMESPACE_ADMINS_LST]).replace(\"\\\"\", \"\\\\\\\"\")"
   ]
  },
  {
   "cell_type": "markdown",
   "metadata": {
    "tags": []
   },
   "source": [
    "### 2. Fork and clone the apps repository\n",
    "\n",
    "Please fork/clone the [operate-first/apps](https://github.com/operate-first/apps) repository. We’ll be working within this repository only.\n",
    "\n",
    "> Note: If you already have a forked & clone repository, please ensure your master branch is up to date with upstream master.\n",
    "\n",
    "1. Go to [operate-first/apps](https://github.com/operate-first/apps).\n",
    "2. Click on the fork button, this will fork the repo to your GitHub account.\n",
    "3. Run the commands below to clone the forked repo."
   ]
  },
  {
   "cell_type": "code",
   "execution_count": 55,
   "metadata": {
    "tags": []
   },
   "outputs": [
    {
     "name": "stdout",
     "output_type": "stream",
     "text": [
      "Working in directory $/tmp/tmpjmgbmtb6\n",
      "Cloning into '/tmp/tmpjmgbmtb6'...\n",
      "remote: Enumerating objects: 16488, done.\u001b[K\n",
      "remote: Counting objects: 100% (3586/3586), done.\u001b[K\n",
      "remote: Compressing objects: 100% (1533/1533), done.\u001b[K\n",
      "remote: Total 16488 (delta 2202), reused 3046 (delta 1937), pack-reused 12902\u001b[K\n",
      "Receiving objects: 100% (16488/16488), 7.24 MiB | 18.29 MiB/s, done.\n",
      "Resolving deltas: 100% (8219/8219), done.\n"
     ]
    }
   ],
   "source": [
    "WORKDIR=tempfile.mkdtemp()\n",
    "!echo Working in directory ${WORKDIR}\n",
    "!git clone https://github.com/{GITHUB_USERNAME}/apps.git {WORKDIR}"
   ]
  },
  {
   "cell_type": "markdown",
   "metadata": {
    "tags": []
   },
   "source": [
    "### 3. Create Base resources\n",
    "\n",
    "We store all our generic configurations in a `base` location, from where we selectively choose and deploy assets to target clusters. In this case, we need to create an [namespace][ns], [group][grp], and a project [rolebinding][rb] for your team. To do this we'll use the `opfcli` to help us out.\n",
    "\n",
    "[ns]: https://kubernetes.io/docs/concepts/overview/working-with-objects/namespaces/\n",
    "[grp]: https://kubernetes.io/docs/reference/access-authn-authz/rbac/\n",
    "[rb]: https://kubernetes.io/docs/reference/access-authn-authz/rbac/"
   ]
  },
  {
   "cell_type": "code",
   "execution_count": 56,
   "metadata": {
    "tags": []
   },
   "outputs": [
    {
     "name": "stdout",
     "output_type": "stream",
     "text": [
      "/tmp/tmpjmgbmtb6\n",
      "\u001b[36mINFO\u001b[0m[0000] writing group definition to /tmp/tmpjmgbmtb6/cluster-scope/base/user.openshift.io/groups/demo-teamx \n",
      "\u001b[36mINFO\u001b[0m[0000] writing rbac definition to /tmp/tmpjmgbmtb6/cluster-scope/components/project-admin-rolebindings/demo-teamx \n",
      "\u001b[36mINFO\u001b[0m[0000] writing namespace definition to /tmp/tmpjmgbmtb6/cluster-scope/base/core/namespaces/demo-projecx \n"
     ]
    }
   ],
   "source": [
    "%cd {WORKDIR}\n",
    "!opfcli create-project {NAMESPACE_NAME} {TEAM_NAME} -d \"{NAMESPACE_DISPLAY_NAME}\""
   ]
  },
  {
   "cell_type": "markdown",
   "metadata": {
    "tags": []
   },
   "source": [
    "### 4. Adding namespace resources to the target cluster\n",
    "\n",
    "Run the following code to ensure your namespace is created in the target cluster."
   ]
  },
  {
   "cell_type": "code",
   "execution_count": 57,
   "metadata": {
    "tags": []
   },
   "outputs": [
    {
     "name": "stdout",
     "output_type": "stream",
     "text": [
      "/tmp/tmpjmgbmtb6/cluster-scope/overlays/prod/moc/smaug\n"
     ]
    }
   ],
   "source": [
    "%cd {WORKDIR}/cluster-scope/overlays/prod/{TARGET_CLUSTER}/\n",
    "!kustomize edit add resource ../../../../base/core/namespaces/{NAMESPACE_NAME}"
   ]
  },
  {
   "cell_type": "markdown",
   "metadata": {},
   "source": [
    "The line added above by `kustomize edit` does not add the entry alphabetically, so we are going to sort it here ourselves (for human readability), you can also do it manually."
   ]
  },
  {
   "cell_type": "code",
   "execution_count": 58,
   "metadata": {
    "tags": []
   },
   "outputs": [],
   "source": [
    "kustomization_path = WORKDIR + \"/cluster-scope/overlays/prod/\" + TARGET_CLUSTER + \"/kustomization.yaml\"\n",
    "with open(kustomization_path, \"r\") as f:\n",
    "    kustomization = yaml.safe_load(f)\n",
    "    kustomization['resources'].sort()\n",
    "with open(kustomization_path, 'w') as f:\n",
    "    yaml.dump(kustomization, f)"
   ]
  },
  {
   "cell_type": "markdown",
   "metadata": {
    "tags": []
   },
   "source": [
    "### 5. Add your quota to the namespace\n",
    "\n",
    "With the namespace manifest created, we now want to ensure the appropriate quota is added. If you picked the custom quota option you can skip to the next code block."
   ]
  },
  {
   "cell_type": "code",
   "execution_count": 59,
   "metadata": {
    "tags": []
   },
   "outputs": [
    {
     "name": "stdout",
     "output_type": "stream",
     "text": [
      "/tmp/tmpjmgbmtb6/cluster-scope/base/core/namespaces/demo-projecx\n"
     ]
    }
   ],
   "source": [
    "%cd {WORKDIR}/cluster-scope/base/core/namespaces/{NAMESPACE_NAME}\n",
    "if(not CUSTOM_QUOTA): \n",
    "    !kustomize edit add component ../../../../components/resourcequotas/{QUOTA}"
   ]
  },
  {
   "cell_type": "markdown",
   "metadata": {},
   "source": [
    "If you require a custom quota, please enter the values for the resources you require:"
   ]
  },
  {
   "cell_type": "code",
   "execution_count": 60,
   "metadata": {
    "tags": []
   },
   "outputs": [],
   "source": [
    "CPU_LIMIT = \"1\"\n",
    "CPU_REQUESTS = \"1\"\n",
    "MEMORY_LIMIT = \"4Gi\"\n",
    "MEMORY_REQUEST = \"4Gi\"\n",
    "STORAGE = \"10Gi\"\n",
    "NUMBER_OF_BUCKETS = 1"
   ]
  },
  {
   "cell_type": "markdown",
   "metadata": {},
   "source": [
    "Now run the following code to create the custom quota:"
   ]
  },
  {
   "cell_type": "code",
   "execution_count": 68,
   "metadata": {
    "tags": []
   },
   "outputs": [
    {
     "name": "stdout",
     "output_type": "stream",
     "text": [
      "/tmp/tmpjmgbmtb6/cluster-scope\n"
     ]
    }
   ],
   "source": [
    "%cd {WORKDIR}/cluster-scope\n",
    "if CUSTOM_QUOTA:\n",
    "    custom_quota_path = \"base/core/namespaces/{0}/resourcequota.yaml\".format(NAMESPACE_NAME)\n",
    "    custom_quota = yaml.safe_load(\n",
    "        \"\"\"\n",
    "        apiVersion: v1\n",
    "        kind: ResourceQuota\n",
    "        metadata:\n",
    "          name: {0}-custom\n",
    "        spec:\n",
    "          hard:\n",
    "            limits.cpu: {1}\n",
    "            limits.memory: {2}\n",
    "            requests.cpu: {3}\n",
    "            requests.memory: {4}\n",
    "            requests.storage: {5}\n",
    "            count/objectbucketclaims.objectbucket.io: {6}    \n",
    "        \"\"\".format(NAMESPACE_NAME, CPU_LIMIT, CPU_REQUESTS, MEMORY_LIMIT, MEMORY_REQUEST, STORAGE, NUMBER_OF_BUCKETS))\n",
    "\n",
    "    with open(custom_quota_path, 'w') as f:\n",
    "        yaml.dump(custom_quota, f)"
   ]
  },
  {
   "cell_type": "markdown",
   "metadata": {},
   "source": [
    "We now include this Custom Resource along with our namespace build."
   ]
  },
  {
   "cell_type": "code",
   "execution_count": 62,
   "metadata": {
    "tags": []
   },
   "outputs": [
    {
     "name": "stdout",
     "output_type": "stream",
     "text": [
      "/tmp/tmpjmgbmtb6/cluster-scope/base/core/namespaces/demo-projecx\n"
     ]
    }
   ],
   "source": [
    "%cd {WORKDIR}/cluster-scope/base/core/namespaces/{NAMESPACE_NAME}\n",
    "!kustomize edit add resource resourcequota.yaml"
   ]
  },
  {
   "cell_type": "markdown",
   "metadata": {},
   "source": [
    "### 6. Adding group to Operate-First clusters\n",
    "\n",
    "We have created the OCP group manifest, now let's ensure that it is deployed to all our clusters by updating our common `kustomization.yaml` that is deployed on all clusters."
   ]
  },
  {
   "cell_type": "code",
   "execution_count": 63,
   "metadata": {
    "tags": []
   },
   "outputs": [
    {
     "name": "stdout",
     "output_type": "stream",
     "text": [
      "/tmp/tmpjmgbmtb6/cluster-scope/overlays/prod/common\n"
     ]
    }
   ],
   "source": [
    "%cd {WORKDIR}/cluster-scope/overlays/prod/common\n",
    "!kustomize edit add resource ../../../base/user.openshift.io/groups/{TEAM_NAME}"
   ]
  },
  {
   "cell_type": "markdown",
   "metadata": {},
   "source": [
    "Once again we sort the resources in this file to ensure human readability."
   ]
  },
  {
   "cell_type": "code",
   "execution_count": 64,
   "metadata": {
    "tags": []
   },
   "outputs": [],
   "source": [
    "kustomization_path = WORKDIR + \"/cluster-scope/overlays/prod/common/kustomization.yaml\"\n",
    "\n",
    "with open(kustomization_path, \"r\") as f:\n",
    "    kustomization = yaml.safe_load(f)\n",
    "    kustomization['resources'].sort()\n",
    "with open(kustomization_path, 'w') as f:\n",
    "    yaml.dump(kustomization, f)"
   ]
  },
  {
   "cell_type": "markdown",
   "metadata": {
    "tags": []
   },
   "source": [
    "### 7. Populate your OCP Group\n",
    "\n",
    "Let's now add all the users you specified earlier to the OpenShift group making them project admins for the namespace we just created."
   ]
  },
  {
   "cell_type": "code",
   "execution_count": 66,
   "metadata": {
    "tags": []
   },
   "outputs": [
    {
     "name": "stdout",
     "output_type": "stream",
     "text": [
      "/tmp/tmpjmgbmtb6\n"
     ]
    }
   ],
   "source": [
    "%cd {WORKDIR}\n",
    "!yq e -i \".users = {NAMESPACE_ADMINS}\" -P cluster-scope/base/user.openshift.io/groups/{TEAM_NAME}/group.yaml"
   ]
  },
  {
   "cell_type": "markdown",
   "metadata": {},
   "source": [
    "## Finalize\n",
    "\n",
    "Review your changes by running the following:"
   ]
  },
  {
   "cell_type": "code",
   "execution_count": 67,
   "metadata": {
    "tags": []
   },
   "outputs": [
    {
     "name": "stdout",
     "output_type": "stream",
     "text": [
      "On branch master\n",
      "Your branch is up to date with 'origin/master'.\n",
      "\n",
      "Changes not staged for commit:\n",
      "  (use \"git add <file>...\" to update what will be committed)\n",
      "  (use \"git restore <file>...\" to discard changes in working directory)\n",
      "\t\u001b[31mmodified:   cluster-scope/overlays/prod/common/kustomization.yaml\u001b[m\n",
      "\t\u001b[31mmodified:   cluster-scope/overlays/prod/moc/smaug/kustomization.yaml\u001b[m\n",
      "\n",
      "Untracked files:\n",
      "  (use \"git add <file>...\" to include in what will be committed)\n",
      "\t\u001b[31mcluster-scope/base/core/namespaces/demo-projecx/\u001b[m\n",
      "\t\u001b[31mcluster-scope/base/user.openshift.io/groups/demo-teamx/\u001b[m\n",
      "\t\u001b[31mcluster-scope/components/project-admin-rolebindings/demo-teamx/\u001b[m\n",
      "\n",
      "no changes added to commit (use \"git add\" and/or \"git commit -a\")\n"
     ]
    }
   ],
   "source": [
    "!git status"
   ]
  },
  {
   "cell_type": "markdown",
   "metadata": {},
   "source": [
    "Now let's stage, commit, and push your changes to your GitHub account."
   ]
  },
  {
   "cell_type": "code",
   "execution_count": 7,
   "metadata": {
    "collapsed": true,
    "jupyter": {
     "outputs_hidden": true
    },
    "tags": []
   },
   "outputs": [
    {
     "name": "stdout",
     "output_type": "stream",
     "text": [
      "On branch master\n",
      "Your branch is up to date with 'origin/master'.\n",
      "\n",
      "Changes not staged for commit:\n",
      "  (use \"git add <file>...\" to update what will be committed)\n",
      "  (use \"git restore <file>...\" to discard changes in working directory)\n",
      "\t\u001b[31mmodified:   cluster-scope/overlays/prod/emea/demo/kustomization.yaml\u001b[m\n",
      "\n",
      "Untracked files:\n",
      "  (use \"git add <file>...\" to include in what will be committed)\n",
      "\t\u001b[31mcluster-scope/base/core/namespaces/demo-project/\u001b[m\n",
      "\t\u001b[31mcluster-scope/base/user.openshift.io/groups/demo-team/\u001b[m\n",
      "\t\u001b[31mcluster-scope/components/project-admin-rolebindings/demo-team/\u001b[m\n",
      "\n",
      "no changes added to commit (use \"git add\" and/or \"git commit -a\")\n",
      "[master bf5372e] feat(onboarding): Add team demo-team\n",
      " 7 files changed, 41 insertions(+)\n",
      " create mode 100644 cluster-scope/base/core/namespaces/demo-project/kustomization.yaml\n",
      " create mode 100644 cluster-scope/base/core/namespaces/demo-project/namespace.yaml\n",
      " create mode 100644 cluster-scope/base/user.openshift.io/groups/demo-team/group.yaml\n",
      " create mode 100644 cluster-scope/base/user.openshift.io/groups/demo-team/kustomization.yaml\n",
      " create mode 100644 cluster-scope/components/project-admin-rolebindings/demo-team/kustomization.yaml\n",
      " create mode 100644 cluster-scope/components/project-admin-rolebindings/demo-team/rbac.yaml\n",
      "Enumerating objects: 37, done.\n",
      "Counting objects: 100% (37/37), done.\n",
      "Delta compression using up to 12 threads\n",
      "Compressing objects: 100% (23/23), done.\n",
      "Writing objects: 100% (24/24), 2.29 KiB | 2.29 MiB/s, done.\n",
      "Total 24 (delta 10), reused 0 (delta 0), pack-reused 0\n",
      "remote: Resolving deltas: 100% (10/10), completed with 9 local objects.\u001b[K\n",
      "To https://github.com/4n4nd/apps.git\n",
      "   da4a111..bf5372e  master -> master\n"
     ]
    }
   ],
   "source": [
    "!git add .\n",
    "!git commit -m \"feat(onboarding): Add team {TEAM_NAME}\"\n",
    "!git push"
   ]
  },
  {
   "cell_type": "markdown",
   "metadata": {},
   "source": [
    "Once pushed send a pull request against the [operate-first/apps](https://github.com/operate-first/apps) repository. \n",
    "\n",
    "Once the pull request is merged, all the desired changes will be applied by our ArgoCD instance and the listed users should have admin access to the specified namespaces in the target cluster."
   ]
  }
 ],
 "metadata": {
  "interpreter": {
   "hash": "e7370f93d1d0cde622a1f8e1c04877d8463912d04d973331ad4851f04de6915a"
  },
  "kernelspec": {
   "display_name": "Python 3 (ipykernel)",
   "language": "python",
   "name": "python3"
  },
  "language_info": {
   "codemirror_mode": {
    "name": "ipython",
    "version": 3
   },
   "file_extension": ".py",
   "mimetype": "text/x-python",
   "name": "python",
   "nbconvert_exporter": "python",
   "pygments_lexer": "ipython3",
   "version": "3.8.6"
  }
 },
 "nbformat": 4,
 "nbformat_minor": 4
}
